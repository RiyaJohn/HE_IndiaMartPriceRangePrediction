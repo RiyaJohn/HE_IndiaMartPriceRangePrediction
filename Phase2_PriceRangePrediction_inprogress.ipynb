{
  "nbformat": 4,
  "nbformat_minor": 0,
  "metadata": {
    "colab": {
      "name": "Phase2_PriceRangePrediction_inprogress.ipynb",
      "version": "0.3.2",
      "provenance": [],
      "include_colab_link": true
    },
    "kernelspec": {
      "name": "python3",
      "display_name": "Python 3"
    }
  },
  "cells": [
    {
      "cell_type": "markdown",
      "metadata": {
        "id": "view-in-github",
        "colab_type": "text"
      },
      "source": [
        "<a href=\"https://colab.research.google.com/github/RiyaJohn/HE_IndiaMartPriceRangePrediction/blob/master/Phase2_PriceRangePrediction_inprogress.ipynb\" target=\"_parent\"><img src=\"https://colab.research.google.com/assets/colab-badge.svg\" alt=\"Open In Colab\"/></a>"
      ]
    },
    {
      "cell_type": "code",
      "metadata": {
        "id": "YSbgeiLEygyp",
        "colab_type": "code",
        "outputId": "c8e1e828-3370-4fba-cc25-3551f1991f36",
        "colab": {
          "base_uri": "https://localhost:8080/",
          "height": 87
        }
      },
      "source": [
        "import csv\n",
        "import nltk\n",
        "nltk.download('wordnet')\n",
        "from nltk.corpus import wordnet\n",
        "import pandas as pd\n",
        "from scipy import stats\n",
        "import numpy as np\n",
        "from collections import Counter\n",
        "import matplotlib.pyplot as plt\n",
        "import re\n",
        "import spacy.cli\n",
        "spacy.cli.download(\"en_core_web_lg\")"
      ],
      "execution_count": 111,
      "outputs": [
        {
          "output_type": "stream",
          "text": [
            "[nltk_data] Downloading package wordnet to /root/nltk_data...\n",
            "[nltk_data]   Package wordnet is already up-to-date!\n",
            "\u001b[38;5;2m✔ Download and installation successful\u001b[0m\n",
            "You can now load the model via spacy.load('en_core_web_lg')\n"
          ],
          "name": "stdout"
        }
      ]
    },
    {
      "cell_type": "code",
      "metadata": {
        "id": "YIOCKlSNXnni",
        "colab_type": "code",
        "colab": {}
      },
      "source": [
        "import en_core_web_lg\n",
        "nlp = en_core_web_lg.load()"
      ],
      "execution_count": 0,
      "outputs": []
    },
    {
      "cell_type": "markdown",
      "metadata": {
        "id": "juPLouhBtpxN",
        "colab_type": "text"
      },
      "source": [
        "### Data Cleaning\n"
      ]
    },
    {
      "cell_type": "code",
      "metadata": {
        "id": "8brpnqWPr_yl",
        "colab_type": "code",
        "outputId": "d75511c5-8616-4050-82a9-fcf8fecee0a5",
        "colab": {
          "base_uri": "https://localhost:8080/",
          "height": 89
        }
      },
      "source": [
        "from google.colab import drive\n",
        "drive.mount('/content/drive')\n",
        "!ls \"/content/drive/My Drive/Colab Notebooks/data/Unit Quantity Codes.xlsx\"\n",
        "!ls \"/content/drive/My Drive/Colab Notebooks/data/Hackathon_Phase2_sm.xlsx\"\n"
      ],
      "execution_count": 113,
      "outputs": [
        {
          "output_type": "stream",
          "text": [
            "Drive already mounted at /content/drive; to attempt to forcibly remount, call drive.mount(\"/content/drive\", force_remount=True).\n",
            "'/content/drive/My Drive/Colab Notebooks/data/Unit Quantity Codes.xlsx'\n",
            "'/content/drive/My Drive/Colab Notebooks/data/Hackathon_Phase2_sm.xlsx'\n"
          ],
          "name": "stdout"
        }
      ]
    },
    {
      "cell_type": "code",
      "metadata": {
        "id": "L0o2dMzdrvH8",
        "colab_type": "code",
        "outputId": "2124618b-f7d1-44cc-9ee8-681504a854a9",
        "colab": {
          "base_uri": "https://localhost:8080/",
          "height": 202
        }
      },
      "source": [
        "# Get Static dataset of Indian Customs Quantity Codes and Shipping Measurement Units\n",
        "qty_codes_file = \"/content/drive/My Drive/Colab Notebooks/data/Unit Quantity Codes.xlsx\"\n",
        "qty_codes = pd.read_excel(qty_codes_file)\n",
        "qty_codes = pd.DataFrame(qty_codes)\n",
        "qty_codes.head(5)"
      ],
      "execution_count": 114,
      "outputs": [
        {
          "output_type": "execute_result",
          "data": {
            "text/html": [
              "<div>\n",
              "<style scoped>\n",
              "    .dataframe tbody tr th:only-of-type {\n",
              "        vertical-align: middle;\n",
              "    }\n",
              "\n",
              "    .dataframe tbody tr th {\n",
              "        vertical-align: top;\n",
              "    }\n",
              "\n",
              "    .dataframe thead th {\n",
              "        text-align: right;\n",
              "    }\n",
              "</style>\n",
              "<table border=\"1\" class=\"dataframe\">\n",
              "  <thead>\n",
              "    <tr style=\"text-align: right;\">\n",
              "      <th></th>\n",
              "      <th>Quantity Code</th>\n",
              "      <th>Quantity Description</th>\n",
              "      <th>Quantity Type</th>\n",
              "    </tr>\n",
              "  </thead>\n",
              "  <tbody>\n",
              "    <tr>\n",
              "      <th>0</th>\n",
              "      <td>AMP</td>\n",
              "      <td>AMPULES</td>\n",
              "      <td>NaN</td>\n",
              "    </tr>\n",
              "    <tr>\n",
              "      <th>1</th>\n",
              "      <td>BAG</td>\n",
              "      <td>BAGS</td>\n",
              "      <td>NaN</td>\n",
              "    </tr>\n",
              "    <tr>\n",
              "      <th>2</th>\n",
              "      <td>BAL</td>\n",
              "      <td>BALE</td>\n",
              "      <td>M</td>\n",
              "    </tr>\n",
              "    <tr>\n",
              "      <th>3</th>\n",
              "      <td>BDL</td>\n",
              "      <td>BUNDLES</td>\n",
              "      <td>NaN</td>\n",
              "    </tr>\n",
              "    <tr>\n",
              "      <th>4</th>\n",
              "      <td>BKL</td>\n",
              "      <td>BUCKLES</td>\n",
              "      <td>M</td>\n",
              "    </tr>\n",
              "  </tbody>\n",
              "</table>\n",
              "</div>"
            ],
            "text/plain": [
              "  Quantity Code Quantity Description Quantity Type\n",
              "0           AMP              AMPULES           NaN\n",
              "1           BAG                 BAGS           NaN\n",
              "2           BAL                 BALE             M\n",
              "3           BDL              BUNDLES           NaN\n",
              "4           BKL              BUCKLES             M"
            ]
          },
          "metadata": {
            "tags": []
          },
          "execution_count": 114
        }
      ]
    },
    {
      "cell_type": "code",
      "metadata": {
        "id": "gfo3YXnVtK1y",
        "colab_type": "code",
        "colab": {}
      },
      "source": [
        "# Data collection\n",
        "data_file = \"/content/drive/My Drive/Colab Notebooks/data/Hackathon_Phase2_sm.xlsx\"\n",
        "data = pd.read_excel(data_file, None) # None - Reading all sheets in the file\n"
      ],
      "execution_count": 0,
      "outputs": []
    },
    {
      "cell_type": "code",
      "metadata": {
        "id": "wkDILwvvklqn",
        "colab_type": "code",
        "outputId": "e19cd2c2-1ade-4f8f-abb1-7d68860d51c7",
        "colab": {
          "base_uri": "https://localhost:8080/",
          "height": 121
        }
      },
      "source": [
        "# Remove NAs and zeros data\n",
        "for key, value in data.items():\n",
        "  df = pd.DataFrame(data[key])\n",
        "  print(df.head(2))\n",
        "  df = df.dropna() # remove NAs\n",
        "  df = df[(df != 0).all(1)] # remove rows that have zeros in any of the col.\n",
        "print(len(df))"
      ],
      "execution_count": 117,
      "outputs": [
        {
          "output_type": "stream",
          "text": [
            "         Mcat Name  ... PC_ITEM_MOQ_UNIT_TYPE\n",
            "0  HMI Touch Panel  ...                 Piece\n",
            "1  HMI Touch Panel  ...                  Unit\n",
            "\n",
            "[2 rows x 8 columns]\n",
            "3331\n"
          ],
          "name": "stdout"
        }
      ]
    },
    {
      "cell_type": "markdown",
      "metadata": {
        "id": "XX_lCMIMt5AA",
        "colab_type": "text"
      },
      "source": [
        "### Data Processing"
      ]
    },
    {
      "cell_type": "code",
      "metadata": {
        "id": "sBAW5FCGMKFs",
        "colab_type": "code",
        "colab": {}
      },
      "source": [
        "# getting the unique set of units in the input data\n",
        "input_units = []\n",
        "df['PC_ITEM_MOQ_UNIT_TYPE'] = df['PC_ITEM_MOQ_UNIT_TYPE'].astype(str).str.upper()\n",
        "input_units.append(df.PC_ITEM_MOQ_UNIT_TYPE.unique().tolist())\n",
        "input_units = set([item for sublist in input_units for item in sublist])"
      ],
      "execution_count": 0,
      "outputs": []
    },
    {
      "cell_type": "code",
      "metadata": {
        "id": "k1DVL1IghNSV",
        "colab_type": "code",
        "outputId": "d71ed5ee-e265-45e4-c17e-dcee03ad2954",
        "colab": {
          "base_uri": "https://localhost:8080/",
          "height": 72
        }
      },
      "source": [
        "# Units pre-processing - removing [onwards, per, (s), numbers]\n",
        "input_units_objs = {}\n",
        "for unit in input_units:\n",
        "  input_units_objs[unit] = {}\n",
        "  \n",
        "  if re.search('onwards', unit, re.IGNORECASE):\n",
        "    input_units_objs[unit][\"onwards\"] = True\n",
        "#   when 120 per piece given then 120 is price \n",
        "  if re.search('[0-9]+( *per)', unit, re.IGNORECASE):\n",
        "    input_units_objs[unit][\"price\"] = int(re.search('[0-9]+', re.search('[0-9]+( *per)', unit, re.IGNORECASE).group()).group())\n",
        "#  removing  [onwards, per, (s), one/1] \n",
        "  shorter = re.sub('(onwards *)*([0-9 ]*per *)*(\\(s\\))*((1|one)(?![\\d]))*', '', unit, flags=re.IGNORECASE)\n",
        "#   removing other numbers to set them as size(could be 5, 1-100 as range or 40' as in inch also) \n",
        "  if re.search('[0-9]+([-]?[0-9]+)*', shorter):\n",
        "    input_units_objs[unit][\"size\"] = re.search('[0-9]+([-]?[0-9]+)*[\\'\\\"]*', shorter).group()\n",
        "    shorter = re.sub('[0-9]+([-]?[0-9]+)*[\\'\\\" ]*', '', shorter, flags=re.IGNORECASE)\n",
        "#    if empty means they were numbers given so set unit to numbers(if 5) else take given unit(if 5 pcs)\n",
        "  if shorter == \"\":\n",
        "    input_units_objs[unit][\"shorter\"] = \"NOS\"\n",
        "  else:\n",
        "    input_units_objs[unit][\"shorter\"] = shorter.strip(' /_-.')\n",
        "\n",
        "print(input_units_objs)\n",
        "print(len(input_units_objs))"
      ],
      "execution_count": 119,
      "outputs": [
        {
          "output_type": "stream",
          "text": [
            "{'GALLON': {'shorter': 'GALLON'}, 'METER': {'shorter': 'METER'}, 'BUNDLE': {'shorter': 'BUNDLE'}, 'NUMBER': {'shorter': 'NUMBER'}, 'PERSON': {'shorter': 'SON'}, 'SET': {'shorter': 'SET'}, 'PER PIECE': {'shorter': 'PIECE'}, '50KG': {'size': '50', 'shorter': 'KG'}, 'BARREL': {'shorter': 'BARREL'}, 'LITER': {'shorter': 'LITER'}, 'METER(S)': {'shorter': 'METER'}, 'BAG': {'shorter': 'BAG'}, '1 BOX': {'shorter': 'BOX'}, 'NOS': {'shorter': 'NOS'}, 'UNIT': {'shorter': 'UNIT'}, 'ROLL': {'shorter': 'ROLL'}, 'KG': {'shorter': 'KG'}, 'MILLILITER': {'shorter': 'MILLILITER'}, 'BOX': {'shorter': 'BOX'}, 'LITRE': {'shorter': 'LITRE'}, 'PER KG': {'shorter': 'KG'}, '1 LTR': {'shorter': 'LTR'}, 'METRIC TON': {'shorter': 'METRIC TON'}, '1 LITER': {'shorter': 'LITER'}, 'BOTTLE': {'shorter': 'BOTTLE'}, 'LONG TON': {'shorter': 'LONG TON'}, 'PIECE': {'shorter': 'PIECE'}, 'PACKET': {'shorter': 'PACKET'}, 'TON': {'shorter': 'TON'}, 'KILOGRAM': {'shorter': 'KILOGRAM'}, 'PACK': {'shorter': 'PACK'}, 'TONS': {'shorter': 'TONS'}, 'GRAM': {'shorter': 'GRAM'}}\n",
            "33\n"
          ],
          "name": "stdout"
        }
      ]
    },
    {
      "cell_type": "code",
      "metadata": {
        "id": "ClKygv2Kl82g",
        "colab_type": "code",
        "outputId": "abf7a376-d2e2-48cd-b2f2-cef6114fb2c7",
        "colab": {
          "base_uri": "https://localhost:8080/",
          "height": 55
        }
      },
      "source": [
        "# Getting a matching std. unit code for input units\n",
        "\n",
        "for input_unit,input_unit_obj in input_units_objs.items():\n",
        "  unit_code = \"\" # []\n",
        "  unit_scr = 100\n",
        "  for index, row in qty_codes.iterrows():\n",
        "    shorter_input_unit = input_unit_obj[\"shorter\"] if input_unit_obj[\"shorter\"] != \"\" else input_unit\n",
        "    scr1 = nltk.edit_distance(shorter_input_unit, row[0])\n",
        "    scr2 = nltk.edit_distance(shorter_input_unit, row[1])\n",
        "    scr = scr1 if scr1 < scr2 else scr2\n",
        "    if scr < unit_scr:\n",
        "      unit_code = row[0]\n",
        "      unit_scr = scr\n",
        "  if unit_scr <=3:\n",
        "    input_unit_obj[\"code\"] = unit_code\n",
        "  else:\n",
        "    input_unit_obj[\"code\"] = \"OTH\"\n",
        "\n",
        "print(input_units_objs)"
      ],
      "execution_count": 120,
      "outputs": [
        {
          "output_type": "stream",
          "text": [
            "{'GALLON': {'shorter': 'GALLON', 'code': 'OTH'}, 'METER': {'shorter': 'METER', 'code': 'MTR'}, 'BUNDLE': {'shorter': 'BUNDLE', 'code': 'BDL'}, 'NUMBER': {'shorter': 'NUMBER', 'code': 'NOS'}, 'PERSON': {'shorter': 'SON', 'code': 'TON'}, 'SET': {'shorter': 'SET', 'code': 'SET'}, 'PER PIECE': {'shorter': 'PIECE', 'code': 'PCS'}, '50KG': {'size': '50', 'shorter': 'KG', 'code': 'KGA'}, 'BARREL': {'shorter': 'BARREL', 'code': 'BAL'}, 'LITER': {'shorter': 'LITER', 'code': 'LTR'}, 'METER(S)': {'shorter': 'METER', 'code': 'MTR'}, 'BAG': {'shorter': 'BAG', 'code': 'BAG'}, '1 BOX': {'shorter': 'BOX', 'code': 'BOX'}, 'NOS': {'shorter': 'NOS', 'code': 'NOS'}, 'UNIT': {'shorter': 'UNIT', 'code': 'UNT'}, 'ROLL': {'shorter': 'ROLL', 'code': 'ROL'}, 'KG': {'shorter': 'KG', 'code': 'KGA'}, 'MILLILITER': {'shorter': 'MILLILITER', 'code': 'MLT'}, 'BOX': {'shorter': 'BOX', 'code': 'BOX'}, 'LITRE': {'shorter': 'LITRE', 'code': 'LTR'}, 'PER KG': {'shorter': 'KG', 'code': 'KGA'}, '1 LTR': {'shorter': 'LTR', 'code': 'LTR'}, 'METRIC TON': {'shorter': 'METRIC TON', 'code': 'MTS'}, '1 LITER': {'shorter': 'LITER', 'code': 'LTR'}, 'BOTTLE': {'shorter': 'BOTTLE', 'code': 'BTL'}, 'LONG TON': {'shorter': 'LONG TON', 'code': 'OTH'}, 'PIECE': {'shorter': 'PIECE', 'code': 'PCS'}, 'PACKET': {'shorter': 'PACKET', 'code': 'PAC'}, 'TON': {'shorter': 'TON', 'code': 'TON'}, 'KILOGRAM': {'shorter': 'KILOGRAM', 'code': 'KGS'}, 'PACK': {'shorter': 'PACK', 'code': 'PAC'}, 'TONS': {'shorter': 'TONS', 'code': 'TON'}, 'GRAM': {'shorter': 'GRAM', 'code': 'GMS'}}\n"
          ],
          "name": "stdout"
        }
      ]
    },
    {
      "cell_type": "code",
      "metadata": {
        "id": "tsd6HauiP2x5",
        "colab_type": "code",
        "colab": {}
      },
      "source": [
        "def onwards_addon_price(price, percentage_to_add):\n",
        "  new_price = price+(price*percentage_to_add)/100\n",
        "  return new_price\n",
        "\n",
        "def find_priority(cnt, total_cnt):\n",
        "  if cnt > total_cnt/2:\n",
        "    priority_scr = 1\n",
        "  elif cnt > total_cnt/3:\n",
        "    priority_scr = 2\n",
        "  elif cnt > total_cnt/5:\n",
        "    priority_scr = 3\n",
        "  elif cnt > total_cnt/10:\n",
        "    priority_scr = 4\n",
        "  else:\n",
        "    priority_scr = 5\n",
        "  return priority_scr\n",
        "\n",
        "def find_modes(data, n):\n",
        "  modes = data.value_counts().head(n*4)\n",
        "  n_modes = {}\n",
        "  for val, cnt in modes.items():\n",
        "    if cnt in n_modes:\n",
        "      n_modes[cnt].append(val)\n",
        "    else:\n",
        "      n_modes[cnt] = [val]\n",
        "    if len(n_modes) == n:\n",
        "      break\n",
        "  while len(n_modes) < 3:\n",
        "    n_modes[-1*len(n_modes)] = []\n",
        "    \n",
        "  return list(n_modes.values())"
      ],
      "execution_count": 0,
      "outputs": []
    },
    {
      "cell_type": "code",
      "metadata": {
        "id": "XTj7BPply0W8",
        "colab_type": "code",
        "outputId": "de72fdaf-eb8b-468d-aee1-2218024d9530",
        "colab": {
          "base_uri": "https://localhost:8080/",
          "height": 243
        }
      },
      "source": [
        "# Update price col. if onwards true or price info given \n",
        "# Update desc. col(s) with size info TODO\n",
        "for index, row in df.iterrows(): \n",
        "  if \"onwards\" in input_units_objs[row['PC_ITEM_MOQ_UNIT_TYPE']]:\n",
        "    row['PC_ITEM_FOB_PRICE'] = onwards_addon_price(row['PC_ITEM_FOB_PRICE'], 10)\n",
        "  if \"size\" in input_units_objs[row['PC_ITEM_MOQ_UNIT_TYPE']]:\n",
        "    row['FK_IM_SPEC_MASTER_DESC'] = str(row['FK_IM_SPEC_MASTER_DESC'])+\", size\"\n",
        "    row['FK_IM_SPEC_OPTIONS_DESC'] = str(row['FK_IM_SPEC_OPTIONS_DESC'])+\", \"+str(input_units_objs[row['PC_ITEM_MOQ_UNIT_TYPE']]['size'])\n",
        "#   Removing (inch), (m) etc in isq column and placing it in isq options \n",
        "  if re.search('\\(.*\\)', str(row['FK_IM_SPEC_MASTER_DESC'])): \n",
        "    row['FK_IM_SPEC_OPTIONS_DESC'] = str(row['FK_IM_SPEC_OPTIONS_DESC'])+re.search('\\(.*\\)', str(row['FK_IM_SPEC_MASTER_DESC'])).group(0)\n",
        "    row['FK_IM_SPEC_MASTER_DESC'] = re.sub('\\(.*\\)', \"\", str(row['FK_IM_SPEC_MASTER_DESC']))\n",
        "# Replacing input units with matching std. unit code/s\n",
        "df['PC_ITEM_MOQ_UNIT_TYPE'] = df['PC_ITEM_MOQ_UNIT_TYPE'].map(lambda unit : input_units_objs[unit][\"code\"]) \n",
        "  \n",
        "print(df.head(10)) "
      ],
      "execution_count": 122,
      "outputs": [
        {
          "output_type": "stream",
          "text": [
            "         Mcat Name  ... PC_ITEM_MOQ_UNIT_TYPE\n",
            "0  HMI Touch Panel  ...                   PCS\n",
            "1  HMI Touch Panel  ...                   UNT\n",
            "2  HMI Touch Panel  ...                   UNT\n",
            "3  HMI Touch Panel  ...                   UNT\n",
            "4  HMI Touch Panel  ...                   UNT\n",
            "5  HMI Touch Panel  ...                   UNT\n",
            "6  HMI Touch Panel  ...                   UNT\n",
            "7  HMI Touch Panel  ...                   UNT\n",
            "8  HMI Touch Panel  ...                   UNT\n",
            "9  HMI Touch Panel  ...                   UNT\n",
            "\n",
            "[10 rows x 8 columns]\n"
          ],
          "name": "stdout"
        }
      ]
    },
    {
      "cell_type": "code",
      "metadata": {
        "id": "8q_s3T2qYVmw",
        "colab_type": "code",
        "colab": {}
      },
      "source": [
        "df['FK_IM_SPEC_MASTER_DESC'] = df['FK_IM_SPEC_MASTER_DESC'].map(lambda x: x.lower())\n",
        "df['FK_IM_SPEC_MASTER_DESC'] = df['FK_IM_SPEC_MASTER_DESC'].map(lambda x: re.sub('ing', '', x))"
      ],
      "execution_count": 0,
      "outputs": []
    },
    {
      "cell_type": "code",
      "metadata": {
        "id": "HaucO7--4z2L",
        "colab_type": "code",
        "colab": {}
      },
      "source": [
        "cond_col = df[['FK_IM_SPEC_MASTER_DESC']]\n",
        "df = df[cond_col.replace(cond_col.apply(pd.Series.value_counts)).gt(5).all(1)]\n",
        "print(df.head(10)) "
      ],
      "execution_count": 0,
      "outputs": []
    },
    {
      "cell_type": "code",
      "metadata": {
        "id": "S96DXGnWLsij",
        "colab_type": "code",
        "colab": {
          "base_uri": "https://localhost:8080/",
          "height": 107
        },
        "outputId": "65eaddec-c430-4d79-c7d6-c7411634d7c2"
      },
      "source": [
        "df_by_mcat = df.groupby('Mcat Name')\n",
        "mcat_sim_isqs = {}  \n",
        "for mcat_name, mcat_group in df_by_mcat:\n",
        "  isq_grouped_cnts = mcat_group.FK_IM_SPEC_MASTER_DESC.value_counts()\n",
        "  similar_isqs = []\n",
        "  for isq1 in isq_grouped_cnts.keys():\n",
        "    for isq2 in isq_grouped_cnts.keys():\n",
        "      if isq1 != isq2 and any(isq1 in similar_isq for similar_isq in similar_isqs) == False and nlp(isq1).similarity(nlp(isq2)) > 0.8:\n",
        "        appended = False\n",
        "        for similar_isq in similar_isqs:\n",
        "          if isq2 in similar_isq:\n",
        "            appended = True\n",
        "            similar_isq.append(isq1)  \n",
        "        if appended == False:\n",
        "          similar_isqs.append([isq1, isq2])\n",
        "  print(similar_isqs) \n",
        "      \n",
        "  sim_isqs = {}    \n",
        "  for similar_isq in similar_isqs:\n",
        "    key = max(dict((key,isq_grouped_cnts[key]) for key in similar_isq if key in isq_grouped_cnts), key=isq_grouped_cnts.get)\n",
        "    sim_isqs[key] = similar_isq\n",
        "  mcat_sim_isqs[mcat_name] = sim_isqs\n"
      ],
      "execution_count": 125,
      "outputs": [
        {
          "output_type": "stream",
          "text": [
            "[['product type', 'packag type', 'type'], ['pack size', 'packag size'], ['grade standard', 'grade']]\n",
            "[['display type', 'type', 'product type', 'screen type'], ['screen size', 'display size', 'display size (inch)', 'size']]\n",
            "[['type', 'product type']]\n",
            "[['number of core', 'number of cores'], ['type', 'packag type'], ['material', 'core material', 'insulat material']]\n"
          ],
          "name": "stdout"
        }
      ]
    },
    {
      "cell_type": "code",
      "metadata": {
        "id": "9e6tsagrEizU",
        "colab_type": "code",
        "colab": {}
      },
      "source": [
        "for index, row in df.iterrows(): \n",
        "  sim_isqs_by_mcat = mcat_sim_isqs[row[\"Mcat Name\"]]\n",
        "  if row[\"FK_IM_SPEC_MASTER_DESC\"] in sim_isqs_by_mcat.values():\n",
        "    row[\"FK_IM_SPEC_MASTER_DESC\"] = list(sim_isqs_by_mcat.keys())[list(sim_isqs_by_mcat.values()).index(row[\"FK_IM_SPEC_MASTER_DESC\"])]"
      ],
      "execution_count": 0,
      "outputs": []
    },
    {
      "cell_type": "code",
      "metadata": {
        "id": "FfEwzFabH14K",
        "colab_type": "code",
        "colab": {}
      },
      "source": [
        "df['FK_IM_SPEC_OPTIONS_DESC'] = df['FK_IM_SPEC_OPTIONS_DESC'].astype(str)"
      ],
      "execution_count": 0,
      "outputs": []
    },
    {
      "cell_type": "markdown",
      "metadata": {
        "id": "wNEbe-M-YCCf",
        "colab_type": "text"
      },
      "source": [
        "### Statistics"
      ]
    },
    {
      "cell_type": "code",
      "metadata": {
        "id": "TOkmP3DV6LY6",
        "colab_type": "code",
        "outputId": "694267b3-e4a4-46d0-cde0-f09dee4cdf45",
        "colab": {
          "base_uri": "https://localhost:8080/",
          "height": 107
        }
      },
      "source": [
        "# res = {}\n",
        "df_by_mcat = df.groupby('Mcat Name')\n",
        "with open('output_unit_wise.csv', 'w') as writeFile:\n",
        "  writer = csv.writer(writeFile)\n",
        "  writer.writerows([[\"Mcat Name\", \"PC_ITEM_MOQ_UNIT_TYPE\", \"Unit wise Min. Price\", \"Unit wise Max. Price\", \"Unit Priority\", \"Most Common Price 1\", \"Most Common Price 2\", \"Most Common Price 3\"]])\n",
        "  \n",
        "  for mcat_name, mcat_group in df_by_mcat:\n",
        "    res[mcat_name] = {}\n",
        "    unit_grouped_df = mcat_group.groupby('PC_ITEM_MOQ_UNIT_TYPE')\n",
        "    for unit, group in unit_grouped_df: \n",
        "      group = group[(np.abs(stats.zscore(group.PC_ITEM_FOB_PRICE)) < 5)] # Remove rows with outliers(+/-3 std. deviation away) in Price column\n",
        "      n_modes = find_modes(group.PC_ITEM_FOB_PRICE, 3)\n",
        "\n",
        "      if len(group) > 3:\n",
        "        priority_scr = find_priority(len(group), len(mcat_group))\n",
        "        skew_score = group.PC_ITEM_FOB_PRICE.skew()\n",
        "        if skew_score > 1 or skew_score < -1:\n",
        "          log_data = np.log(group.PC_ITEM_FOB_PRICE)\n",
        "          price_range = log_data.quantile([0.1,1])\n",
        "#           res[mcat_name][unit] = (round(np.exp(price_range[0.1])), round(np.exp(price_range[1])), priority_scr, n_modes)\n",
        "          writer.writerows([[mcat_name, unit, round(np.exp(price_range[0.1])), round(np.exp(price_range[1])), priority_scr, n_modes[0], n_modes[1], n_modes[2]]])\n",
        "        else:\n",
        "          price_range = group.PC_ITEM_FOB_PRICE.quantile([0.1,1])\n",
        "#           res[mcat_name][unit] = (round(price_range[0.1]), round(price_range[1]), priority_scr, n_modes)\n",
        "          writer.writerows([[mcat_name, unit, round(price_range[0.1]), round(price_range[1]), priority_scr, n_modes[0], n_modes[1], n_modes[2]]])\n",
        "\n",
        "          \n",
        "writeFile.close() \n",
        "!cp output_unit_wise.csv drive/My\\ Drive/"
      ],
      "execution_count": 131,
      "outputs": [
        {
          "output_type": "stream",
          "text": [
            "/usr/local/lib/python3.6/dist-packages/scipy/stats/stats.py:2315: RuntimeWarning: invalid value encountered in true_divide\n",
            "  return (a - mns) / sstd\n",
            "/usr/local/lib/python3.6/dist-packages/ipykernel_launcher.py:10: RuntimeWarning: invalid value encountered in less\n",
            "  # Remove the CWD from sys.path while we load stuff.\n"
          ],
          "name": "stderr"
        }
      ]
    },
    {
      "cell_type": "code",
      "metadata": {
        "id": "zX9sxzZfFiq0",
        "colab_type": "code",
        "colab": {
          "base_uri": "https://localhost:8080/",
          "height": 107
        },
        "outputId": "bd720e94-8002-4850-ab94-44e72b641802"
      },
      "source": [
        "# res = {}\n",
        "df_by_mcat = df.groupby('Mcat Name')\n",
        "with open('output_unit_isq_wise.csv', 'w') as writeFile:\n",
        "  writer = csv.writer(writeFile)\n",
        "  writer.writerows([[\"Mcat Name\", \"PC_ITEM_MOQ_UNIT_TYPE\", \"FK_IM_SPEC_MASTER_DESC\", \"FK_IM_SPEC_OPTIONS_DESC\", \"ISQ Min. Price\", \"ISQ Max. Price\", \"ISQ Priority\"]])\n",
        "  for mcat_name, mcat_group in df_by_mcat:\n",
        "#     res[mcat_name] = {}\n",
        "    unit_isq_grouped_df = mcat_group.groupby(['PC_ITEM_MOQ_UNIT_TYPE','FK_IM_SPEC_MASTER_DESC', 'FK_IM_SPEC_OPTIONS_DESC'])\n",
        "    for isq, group in unit_isq_grouped_df: \n",
        "      if len(group) > 5:\n",
        "        group = group[(np.abs(stats.zscore(group.PC_ITEM_FOB_PRICE)) < 5)] # Remove rows with outliers(+/-5 std. deviation away) in Price column\n",
        "\n",
        "        if len(group) > 3:\n",
        "          priority_scr = find_priority(len(group), len(mcat_group))\n",
        "          skew_score = group.PC_ITEM_FOB_PRICE.skew()\n",
        "          if skew_score > 1 or skew_score < -1:\n",
        "            log_data = np.log(group.PC_ITEM_FOB_PRICE)\n",
        "            price_range = log_data.quantile([0.1,1])\n",
        "#             res[mcat_name][isq] = (round(np.exp(price_range[0.1])), round(np.exp(price_range[1])), priority_scr)\n",
        "            writer.writerows([[mcat_name, isq[0], isq[1], isq[2], round(np.exp(price_range[0.1])), round(np.exp(price_range[1])), priority_scr ]])\n",
        "          else:\n",
        "            price_range = group.PC_ITEM_FOB_PRICE.quantile([0.1,1])\n",
        "#             res[mcat_name][isq] = (round(price_range[0.1]), round(price_range[1]), priority_scr)\n",
        "            writer.writerows([[mcat_name, isq[0], isq[1], isq[2], round(price_range[0.1]), round(price_range[1]), priority_scr ]])\n",
        "          \n",
        "\n",
        "writeFile.close()   \n",
        "!cp output_unit_isq_wise.csv drive/My\\ Drive/"
      ],
      "execution_count": 133,
      "outputs": [
        {
          "output_type": "stream",
          "text": [
            "/usr/local/lib/python3.6/dist-packages/scipy/stats/stats.py:2315: RuntimeWarning: invalid value encountered in true_divide\n",
            "  return (a - mns) / sstd\n",
            "/usr/local/lib/python3.6/dist-packages/ipykernel_launcher.py:10: RuntimeWarning: invalid value encountered in less\n",
            "  # Remove the CWD from sys.path while we load stuff.\n"
          ],
          "name": "stderr"
        }
      ]
    }
  ]
}