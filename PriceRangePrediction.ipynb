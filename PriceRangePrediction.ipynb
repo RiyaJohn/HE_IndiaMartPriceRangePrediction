{
  "nbformat": 4,
  "nbformat_minor": 0,
  "metadata": {
    "colab": {
      "name": "PriceRangePrediction.ipynb",
      "version": "0.3.2",
      "provenance": [],
      "collapsed_sections": [],
      "include_colab_link": true
    },
    "kernelspec": {
      "name": "python3",
      "display_name": "Python 3"
    }
  },
  "cells": [
    {
      "cell_type": "markdown",
      "metadata": {
        "id": "view-in-github",
        "colab_type": "text"
      },
      "source": [
        "<a href=\"https://colab.research.google.com/github/RiyaJohn/HE_IndiaMartPriceRangePrediction/blob/master/PriceRangePrediction.ipynb\" target=\"_parent\"><img src=\"https://colab.research.google.com/assets/colab-badge.svg\" alt=\"Open In Colab\"/></a>"
      ]
    },
    {
      "cell_type": "code",
      "metadata": {
        "id": "YSbgeiLEygyp",
        "colab_type": "code",
        "outputId": "4180d38d-f20d-429e-8246-713bdfd30ff0",
        "colab": {
          "base_uri": "https://localhost:8080/",
          "height": 52
        }
      },
      "source": [
        "import nltk\n",
        "nltk.download('wordnet')\n",
        "from nltk.corpus import wordnet\n",
        "import pandas as pd\n",
        "from scipy import stats\n",
        "import numpy as np\n",
        "import sklearn\n",
        "from collections import Counter\n",
        "import matplotlib.pyplot as plt"
      ],
      "execution_count": 90,
      "outputs": [
        {
          "output_type": "stream",
          "text": [
            "[nltk_data] Downloading package wordnet to /root/nltk_data...\n",
            "[nltk_data]   Package wordnet is already up-to-date!\n"
          ],
          "name": "stdout"
        }
      ]
    },
    {
      "cell_type": "markdown",
      "metadata": {
        "id": "juPLouhBtpxN",
        "colab_type": "text"
      },
      "source": [
        "### Data Cleaning\n"
      ]
    },
    {
      "cell_type": "code",
      "metadata": {
        "id": "8brpnqWPr_yl",
        "colab_type": "code",
        "outputId": "43b4430d-7300-4a30-ec95-d33a1b2c4efb",
        "colab": {
          "base_uri": "https://localhost:8080/",
          "height": 89
        }
      },
      "source": [
        "from google.colab import drive\n",
        "drive.mount('/content/drive')\n",
        "!ls \"/content/drive/My Drive/Colab Notebooks/data/Unit Quantity Codes.xlsx\"\n",
        "!ls \"/content/drive/My Drive/Colab Notebooks/data/Phase 1 Dataset Hackathon (1)d09fdc4.xlsx\"\n"
      ],
      "execution_count": 91,
      "outputs": [
        {
          "output_type": "stream",
          "text": [
            "Drive already mounted at /content/drive; to attempt to forcibly remount, call drive.mount(\"/content/drive\", force_remount=True).\n",
            "'/content/drive/My Drive/Colab Notebooks/data/Unit Quantity Codes.xlsx'\n",
            "'/content/drive/My Drive/Colab Notebooks/data/Phase 1 Dataset Hackathon (1)d09fdc4.xlsx'\n"
          ],
          "name": "stdout"
        }
      ]
    },
    {
      "cell_type": "code",
      "metadata": {
        "id": "L0o2dMzdrvH8",
        "colab_type": "code",
        "outputId": "21e70da5-94d4-4404-b6ef-5cf0b43043d3",
        "colab": {
          "base_uri": "https://localhost:8080/",
          "height": 202
        }
      },
      "source": [
        "# Get Static dataset of Indian Customs Quantity Codes and Shipping Measurement Units\n",
        "qty_codes_file = \"/content/drive/My Drive/Colab Notebooks/data/Unit Quantity Codes.xlsx\"\n",
        "qty_codes = pd.read_excel(qty_codes_file)\n",
        "qty_codes = pd.DataFrame(qty_codes)\n",
        "qty_codes.head(5)"
      ],
      "execution_count": 92,
      "outputs": [
        {
          "output_type": "execute_result",
          "data": {
            "text/html": [
              "<div>\n",
              "<style scoped>\n",
              "    .dataframe tbody tr th:only-of-type {\n",
              "        vertical-align: middle;\n",
              "    }\n",
              "\n",
              "    .dataframe tbody tr th {\n",
              "        vertical-align: top;\n",
              "    }\n",
              "\n",
              "    .dataframe thead th {\n",
              "        text-align: right;\n",
              "    }\n",
              "</style>\n",
              "<table border=\"1\" class=\"dataframe\">\n",
              "  <thead>\n",
              "    <tr style=\"text-align: right;\">\n",
              "      <th></th>\n",
              "      <th>Quantity Code</th>\n",
              "      <th>Quantity Description</th>\n",
              "      <th>Quantity Type</th>\n",
              "    </tr>\n",
              "  </thead>\n",
              "  <tbody>\n",
              "    <tr>\n",
              "      <th>0</th>\n",
              "      <td>AMP</td>\n",
              "      <td>AMPULES</td>\n",
              "      <td>NaN</td>\n",
              "    </tr>\n",
              "    <tr>\n",
              "      <th>1</th>\n",
              "      <td>BAG</td>\n",
              "      <td>BAGS</td>\n",
              "      <td>NaN</td>\n",
              "    </tr>\n",
              "    <tr>\n",
              "      <th>2</th>\n",
              "      <td>BAL</td>\n",
              "      <td>BALE</td>\n",
              "      <td>M</td>\n",
              "    </tr>\n",
              "    <tr>\n",
              "      <th>3</th>\n",
              "      <td>BDL</td>\n",
              "      <td>BUNDLES</td>\n",
              "      <td>NaN</td>\n",
              "    </tr>\n",
              "    <tr>\n",
              "      <th>4</th>\n",
              "      <td>BKL</td>\n",
              "      <td>BUCKLES</td>\n",
              "      <td>M</td>\n",
              "    </tr>\n",
              "  </tbody>\n",
              "</table>\n",
              "</div>"
            ],
            "text/plain": [
              "  Quantity Code Quantity Description Quantity Type\n",
              "0           AMP              AMPULES           NaN\n",
              "1           BAG                 BAGS           NaN\n",
              "2           BAL                 BALE             M\n",
              "3           BDL              BUNDLES           NaN\n",
              "4           BKL              BUCKLES             M"
            ]
          },
          "metadata": {
            "tags": []
          },
          "execution_count": 92
        }
      ]
    },
    {
      "cell_type": "code",
      "metadata": {
        "id": "gfo3YXnVtK1y",
        "colab_type": "code",
        "colab": {}
      },
      "source": [
        "# Data collection\n",
        "data_file = \"/content/drive/My Drive/Colab Notebooks/data/Phase 1 Dataset Hackathon (1)d09fdc4.xlsx\"\n",
        "data = pd.read_excel(data_file, None) # None - Reading all sheets in the file"
      ],
      "execution_count": 0,
      "outputs": []
    },
    {
      "cell_type": "code",
      "metadata": {
        "id": "wkDILwvvklqn",
        "colab_type": "code",
        "colab": {}
      },
      "source": [
        "# Remove NAs and zeros data\n",
        "data_dfs = []\n",
        "for key, value in data.items():\n",
        "  df = pd.DataFrame(data[key])\n",
        "  df = df.dropna() # remove NAs\n",
        "  df = df[(df != 0).all(1)] # remove rows that have zeros in any of the col.\n",
        "  data_dfs.append(df)"
      ],
      "execution_count": 0,
      "outputs": []
    },
    {
      "cell_type": "markdown",
      "metadata": {
        "id": "XX_lCMIMt5AA",
        "colab_type": "text"
      },
      "source": [
        "### Data Processing"
      ]
    },
    {
      "cell_type": "code",
      "metadata": {
        "id": "sBAW5FCGMKFs",
        "colab_type": "code",
        "colab": {}
      },
      "source": [
        "# getting the unique set of units in the input data\n",
        "input_units = []\n",
        "for df in data_dfs:\n",
        "  df['Unit'] = df['Unit'].astype(str).str.upper()\n",
        "  input_units.append(df.Unit.unique().tolist())\n",
        "input_units = set([item for sublist in input_units for item in sublist])"
      ],
      "execution_count": 0,
      "outputs": []
    },
    {
      "cell_type": "code",
      "metadata": {
        "id": "ClKygv2Kl82g",
        "colab_type": "code",
        "colab": {}
      },
      "source": [
        "# Getting a matching std. unit code for input units\n",
        "input_units_to_codes = {}\n",
        "\n",
        "for input_unit in input_units:\n",
        "  unit_code = \"\" # []\n",
        "  unit_scr = 100\n",
        "  for index, row in qty_codes.iterrows():\n",
        "    scr1 = nltk.edit_distance(input_unit, row[0])\n",
        "    scr2 = nltk.edit_distance(input_unit, row[1])\n",
        "    scr = scr1 if scr1 < scr2 else scr2\n",
        "    if scr < unit_scr:\n",
        "      unit_code = row[0]\n",
        "      unit_scr = scr\n",
        "  if unit_scr <=3:\n",
        "    input_units_to_codes[input_unit] = unit_code"
      ],
      "execution_count": 0,
      "outputs": []
    },
    {
      "cell_type": "code",
      "metadata": {
        "id": "LSe9TfSeGPHL",
        "colab_type": "code",
        "colab": {}
      },
      "source": [
        "# Replacing input units with matching std. unit code/s\n",
        "for df in data_dfs:\n",
        "  df['Unit'] = df['Unit'].map(input_units_to_codes)"
      ],
      "execution_count": 0,
      "outputs": []
    },
    {
      "cell_type": "code",
      "metadata": {
        "id": "Qo3K9DtsUR1M",
        "colab_type": "code",
        "colab": {
          "base_uri": "https://localhost:8080/",
          "height": 72
        },
        "outputId": "0c8a9a1f-f376-40fe-e7bc-57108185573b"
      },
      "source": [
        "res = {}\n",
        "for df in data_dfs:\n",
        "  item = df['Category Name'].unique()[0]\n",
        "  res[item] = {}\n",
        "  total_cnt = len(df)\n",
        "  grouped_df = df.groupby('Unit')\n",
        "  for name, group in grouped_df: \n",
        "    group = group[(np.abs(stats.zscore(group.Price)) < 5)] # Remove rows with outliers(+/-3 std. deviation away) in Price column\n",
        "    if len(group) > 3:\n",
        "      is_acc = True if len(group) > total_cnt/10 else False\n",
        "      unit = name\n",
        "      skew_score = group.Price.skew()\n",
        "      if skew_score > 1 or skew_score < -1:\n",
        "        log_data = np.log(group.Price)\n",
        "        price_range = log_data.quantile([0.1,1])\n",
        "        res[item][unit] = (round(np.exp(price_range[0.1])), round(np.exp(price_range[1])), is_acc)\n",
        "      else:\n",
        "        price_range = group.Price.quantile([0.1,1])\n",
        "        res[item][unit] = (round(price_range[0.1]), round(price_range[1]), is_acc)\n"
      ],
      "execution_count": 98,
      "outputs": [
        {
          "output_type": "stream",
          "text": [
            "/usr/local/lib/python3.6/dist-packages/scipy/stats/stats.py:2315: RuntimeWarning: invalid value encountered in true_divide\n",
            "  return (a - mns) / sstd\n"
          ],
          "name": "stderr"
        }
      ]
    },
    {
      "cell_type": "markdown",
      "metadata": {
        "id": "-pmdso2_69TX",
        "colab_type": "text"
      },
      "source": [
        "### Print Results"
      ]
    },
    {
      "cell_type": "code",
      "metadata": {
        "id": "FSb7qO7TpSb8",
        "colab_type": "code",
        "colab": {
          "base_uri": "https://localhost:8080/",
          "height": 381
        },
        "outputId": "295575d0-af3e-4e21-f4b2-0248f9671f4e"
      },
      "source": [
        "for item, prices in res.items():\n",
        "  for unit, price_range in prices.items():\n",
        "    unit_desc = qty_codes.loc[qty_codes['Quantity Code'] == unit].iloc[0]['Quantity Description']\n",
        "    if price_range[2] == False:\n",
        "      print(\"The price of {} per {} ranges from Rs.{} to Rs. {}.(with less data hence less accuracy)\".format(item, unit_desc, price_range[0], price_range[1] ))\n",
        "    else: \n",
        "      print(\"THE PRICE OF {} PER {} RANGES FROM Rs.{} TO Rs. {}.\".format(item, unit_desc, price_range[0], price_range[1] ))\n",
        "   \n",
        "    "
      ],
      "execution_count": 99,
      "outputs": [
        {
          "output_type": "stream",
          "text": [
            "The price of Leather Safety Gloves per PACKS ranges from Rs.69.0 to Rs. 18974.0.(with less data hence less accuracy)\n",
            "The price of Leather Safety Gloves per PIECES ranges from Rs.40.0 to Rs. 695.0.(with less data hence less accuracy)\n",
            "THE PRICE OF Leather Safety Gloves PER PAIRS RANGES FROM Rs.33.0 TO Rs. 450.0.\n",
            "The price of Leather Safety Gloves per UNITS ranges from Rs.114.0 to Rs. 8978.0.(with less data hence less accuracy)\n",
            "The price of Ladies Kurta per AMPULES ranges from Rs.199.0 to Rs. 3222.0.(with less data hence less accuracy)\n",
            "The price of Ladies Kurta per BAGS ranges from Rs.287.0 to Rs. 4792.0.(with less data hence less accuracy)\n",
            "The price of Ladies Kurta per BOX ranges from Rs.206.0 to Rs. 2350.0.(with less data hence less accuracy)\n",
            "The price of Ladies Kurta per BUNCHES ranges from Rs.409.0 to Rs. 1650.0.(with less data hence less accuracy)\n",
            "The price of Ladies Kurta per CARAT ranges from Rs.449.0 to Rs. 700.0.(with less data hence less accuracy)\n",
            "The price of Ladies Kurta per KILOMETERS ranges from Rs.262.0 to Rs. 950.0.(with less data hence less accuracy)\n",
            "The price of Ladies Kurta per NUMBER ranges from Rs.399.0 to Rs. 3800.0.(with less data hence less accuracy)\n",
            "The price of Ladies Kurta per PACKS ranges from Rs.227.0 to Rs. 3700.0.(with less data hence less accuracy)\n",
            "THE PRICE OF Ladies Kurta PER PIECES RANGES FROM Rs.230.0 TO Rs. 9000.0.\n",
            "The price of Ladies Kurta per PAIRS ranges from Rs.284.0 to Rs. 2200.0.(with less data hence less accuracy)\n",
            "The price of Ladies Kurta per SETS ranges from Rs.299.0 to Rs. 2290.0.(with less data hence less accuracy)\n",
            "The price of Ladies Kurta per UNITS ranges from Rs.200.0 to Rs. 5050.0.(with less data hence less accuracy)\n",
            "The price of Ladies Kurta per YARDS ranges from Rs.433.0 to Rs. 850.0.(with less data hence less accuracy)\n",
            "The price of Impact Drill per NUMBER ranges from Rs.2100.0 to Rs. 29840.0.(with less data hence less accuracy)\n",
            "THE PRICE OF Impact Drill PER PACKS RANGES FROM Rs.1739.0 TO Rs. 47462.0.\n",
            "THE PRICE OF Impact Drill PER PIECES RANGES FROM Rs.1180.0 TO Rs. 28000.0.\n",
            "THE PRICE OF Impact Drill PER UNITS RANGES FROM Rs.1928.0 TO Rs. 55000.0.\n"
          ],
          "name": "stdout"
        }
      ]
    }
  ]
}